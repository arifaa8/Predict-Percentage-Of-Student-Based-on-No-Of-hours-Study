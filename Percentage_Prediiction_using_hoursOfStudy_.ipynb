{
  "nbformat": 4,
  "nbformat_minor": 0,
  "metadata": {
    "colab": {
      "name": "Percentage_Prediiction_using_hoursOfStudy (3).ipynb",
      "provenance": [],
      "collapsed_sections": [
        "rBrG4jVFRATR",
        "ftTT8uUPPbhk",
        "fYWV_XqAQIAm",
        "TgVkugbPOUWt",
        "5OVaV8kRMc4H",
        "Z0_iGrXgKCMf"
      ]
    },
    "kernelspec": {
      "name": "python3",
      "display_name": "Python 3"
    },
    "language_info": {
      "name": "python"
    }
  },
  "cells": [
    {
      "cell_type": "markdown",
      "metadata": {
        "id": "qZ5WmjYNB4v4"
      },
      "source": [
        "## **Prediction using Supervised ML**\n",
        "**Graduate** **Rotational** **Internship** **Program**\n",
        "\n",
        "\n",
        "\n",
        "**The** **Sparks** **Foundation**\n",
        "**The Sparks Foundation**\n",
        "\n",
        "\n",
        "\n"
      ]
    },
    {
      "cell_type": "markdown",
      "metadata": {
        "id": "ONGxn_8T_jnH"
      },
      "source": [
        "###**A Linear Regression Task**\n",
        "\n",
        "In this section we will see how the Python Scikit-Learn library for machine learning can be used to implement regression functions.\n",
        " We will start with simple linear regression involving two variables.\n",
        "\n",
        "\n",
        "### **Simple Linear Regression**  \n",
        "\n",
        "This type of regression come's under the category of supervised learning Model Of Machine Learning . \n",
        "In this task we will predict the percentage of marks that a student is expected to score based upon the number of hours they studied. \n",
        "This is a simple linear regression task as it involves just two variables.\n",
        "\n"
      ]
    },
    {
      "cell_type": "markdown",
      "metadata": {
        "id": "KNcDqvRjR-M6"
      },
      "source": [
        "### Author: Arif Ali Mansuri.\n",
        "Data Science\n",
        "& Business\n",
        "Analytics\n",
        "\n",
        "Graduate Rotational Internship Program\n",
        "The Sparks Foundation , June 2020\n"
      ]
    },
    {
      "cell_type": "markdown",
      "metadata": {
        "id": "8zWNAQyuTgFt"
      },
      "source": [
        "### **Preparing Data**\n"
      ]
    },
    {
      "cell_type": "code",
      "metadata": {
        "id": "V9QN2ZxC38pB"
      },
      "source": [
        "# Importing all libraries required in this notebook\n",
        "import pandas as pd\n",
        "import numpy as np  \n",
        "import matplotlib.pyplot as plt  \n"
      ],
      "execution_count": 1,
      "outputs": []
    },
    {
      "cell_type": "code",
      "metadata": {
        "colab": {
          "base_uri": "https://localhost:8080/"
        },
        "id": "QFre00zWcVC9",
        "outputId": "77b5eec4-b684-406a-a956-0030f6683342"
      },
      "source": [
        "#import dataset from given url=\"http://bit.ly/w-data\"\n",
        "url=\"http://bit.ly/w-data\"\n",
        "df=pd.read_csv(url)\n",
        "print(\"Data imported SucessFully\\n\",df)"
      ],
      "execution_count": 2,
      "outputs": [
        {
          "output_type": "stream",
          "text": [
            "Data imported SucessFully\n",
            "     Hours  Scores\n",
            "0     2.5      21\n",
            "1     5.1      47\n",
            "2     3.2      27\n",
            "3     8.5      75\n",
            "4     3.5      30\n",
            "5     1.5      20\n",
            "6     9.2      88\n",
            "7     5.5      60\n",
            "8     8.3      81\n",
            "9     2.7      25\n",
            "10    7.7      85\n",
            "11    5.9      62\n",
            "12    4.5      41\n",
            "13    3.3      42\n",
            "14    1.1      17\n",
            "15    8.9      95\n",
            "16    2.5      30\n",
            "17    1.9      24\n",
            "18    6.1      67\n",
            "19    7.4      69\n",
            "20    2.7      30\n",
            "21    4.8      54\n",
            "22    3.8      35\n",
            "23    6.9      76\n",
            "24    7.8      86\n"
          ],
          "name": "stdout"
        }
      ]
    },
    {
      "cell_type": "markdown",
      "metadata": {
        "id": "k3L_bb5nDOCk"
      },
      "source": [
        "Let's plot our data points on 2-D graph to anlysis our dataset and see if we can manually find any relationship between the data. We can create the plot with the following script"
      ]
    },
    {
      "cell_type": "code",
      "metadata": {
        "colab": {
          "base_uri": "https://localhost:8080/",
          "height": 547
        },
        "id": "C3igjfC3cmTn",
        "outputId": "fff5a5a4-65de-494c-9bd7-f22d93b9b90e"
      },
      "source": [
        "plt.xlabel(\"Hours Studied\")\n",
        "plt.title(\"Hours versus Percentage Score \")\n",
        "plt.ylabel(\"Percentage Score's\")\n",
        "plt.grid(linewidth=\"2\",color=\"cyan\",linestyle=\":\")\n",
        "\n",
        "plt.scatter(df[[\"Hours\"]],df.Scores,color=\"blue\",marker=\"o\",label=\"Actual\")\n",
        "plt.legend(loc=\"Best\")\n"
      ],
      "execution_count": 3,
      "outputs": [
        {
          "output_type": "stream",
          "text": [
            "/usr/local/lib/python3.7/dist-packages/ipykernel_launcher.py:7: MatplotlibDeprecationWarning: Unrecognized location 'Best'. Falling back on 'best'; valid locations are\n",
            "\tbest\n",
            "\tupper right\n",
            "\tupper left\n",
            "\tlower left\n",
            "\tlower right\n",
            "\tright\n",
            "\tcenter left\n",
            "\tcenter right\n",
            "\tlower center\n",
            "\tupper center\n",
            "\tcenter\n",
            "This will raise an exception in 3.3.\n",
            "  import sys\n"
          ],
          "name": "stderr"
        },
        {
          "output_type": "execute_result",
          "data": {
            "text/plain": [
              "<matplotlib.legend.Legend at 0x7f38cb314b90>"
            ]
          },
          "metadata": {
            "tags": []
          },
          "execution_count": 3
        },
        {
          "output_type": "display_data",
          "data": {
            "image/png": "[encoded data removed]",
            "text/plain": [
              "<Figure size 432x288 with 1 Axes>"
            ]
          },
          "metadata": {
            "tags": [],
            "needs_background": "light"
          }
        }
      ]
    },
    {
      "cell_type": "markdown",
      "metadata": {
        "id": "43rTrCrtDiks"
      },
      "source": [
        "**From the above,plotted graph we can clearly see that there is a positive linear relation between the number of hours studied and percentage of score.**"
      ]
    },
    {
      "cell_type": "markdown",
      "metadata": {
        "id": "Riz-ZiZ34fO4"
      },
      "source": [
        "Now that we have our attributes and labels, the next step is to split this data into training and test sets. We'll do this by using Scikit-Learn's built-in train_test_split() method:\n"
      ]
    },
    {
      "cell_type": "code",
      "metadata": {
        "id": "oixJD5L2hDlu"
      },
      "source": [
        "from sklearn.model_selection import train_test_split\n",
        "train_x,test_x,train_y,test_y=train_test_split(df[[\"Hours\"]],df.Scores,test_size=0.2,random_state=0)\n",
        "# here i am divide the whole dataset inthe ratio of 90:10 \n",
        "# 90 %--> For Training the algorithm \n",
        "# 10 % --> for testing purpose \n"
      ],
      "execution_count": 66,
      "outputs": []
    },
    {
      "cell_type": "markdown",
      "metadata": {
        "id": "rBrG4jVFRATR"
      },
      "source": [
        "### **Training the Algorithm**"
      ]
    },
    {
      "cell_type": "code",
      "metadata": {
        "colab": {
          "base_uri": "https://localhost:8080/"
        },
        "id": "ngydmxtOd7dj",
        "outputId": "749efc36-a787-4407-c11d-25326fc62406"
      },
      "source": [
        "#Training  Algorithm\n",
        "\n",
        "from sklearn.linear_model import LinearRegression\n",
        "model_s = LinearRegression()\n",
        "model_s.fit(train_x,train_y)"
      ],
      "execution_count": 58,
      "outputs": [
        {
          "output_type": "execute_result",
          "data": {
            "text/plain": [
              "LinearRegression(copy_X=True, fit_intercept=True, n_jobs=None, normalize=False)"
            ]
          },
          "metadata": {
            "tags": []
          },
          "execution_count": 58
        }
      ]
    },
    {
      "cell_type": "code",
      "metadata": {
        "colab": {
          "base_uri": "https://localhost:8080/"
        },
        "id": "5-W1YuNeeSOn",
        "outputId": "5d5b0783-dff8-4771-ac83-f6f1f57d20aa"
      },
      "source": [
        "model_s.coef_"
      ],
      "execution_count": 59,
      "outputs": [
        {
          "output_type": "execute_result",
          "data": {
            "text/plain": [
              "array([9.78856669])"
            ]
          },
          "metadata": {
            "tags": []
          },
          "execution_count": 59
        }
      ]
    },
    {
      "cell_type": "code",
      "metadata": {
        "colab": {
          "base_uri": "https://localhost:8080/"
        },
        "id": "9GN0tIDUeY5a",
        "outputId": "7b769237-74af-48b5-8c04-d8a8c038b345"
      },
      "source": [
        "model_s.intercept_"
      ],
      "execution_count": 60,
      "outputs": [
        {
          "output_type": "execute_result",
          "data": {
            "text/plain": [
              "2.3708153823418883"
            ]
          },
          "metadata": {
            "tags": []
          },
          "execution_count": 60
        }
      ]
    },
    {
      "cell_type": "markdown",
      "metadata": {
        "id": "ftTT8uUPPbhk"
      },
      "source": [
        "### **Making Prediction On Given DataSet**"
      ]
    },
    {
      "cell_type": "code",
      "metadata": {
        "id": "kTPe0UyhedfK",
        "colab": {
          "base_uri": "https://localhost:8080/"
        },
        "outputId": "c4379d33-7134-43c0-d5c0-fa60f307acba"
      },
      "source": [
        "model_s.predict(test_x)\n",
        "\n",
        "\n",
        "print(\"Prediction Completed Successfully\")"
      ],
      "execution_count": 61,
      "outputs": [
        {
          "output_type": "stream",
          "text": [
            "Prediction Completed Successfully\n"
          ],
          "name": "stdout"
        }
      ]
    },
    {
      "cell_type": "markdown",
      "metadata": {
        "id": "fYWV_XqAQIAm"
      },
      "source": [
        "### **Ploting DataFrame Of Actul Vs Predicted Results**"
      ]
    },
    {
      "cell_type": "code",
      "metadata": {
        "colab": {
          "base_uri": "https://localhost:8080/",
          "height": 284
        },
        "id": "eEAVba9DfPWi",
        "outputId": "09af28fb-49d6-43e0-cbac-9b6e9852dccf"
      },
      "source": [
        "p=model_s.predict(test_x)\n",
        "pd.DataFrame({'Actual:':test_y,'Predicted:':p})"
      ],
      "execution_count": 62,
      "outputs": [
        {
          "output_type": "execute_result",
          "data": {
            "text/html": [
              "<div>\n",
              "<style scoped>\n",
              "    .dataframe tbody tr th:only-of-type {\n",
              "        vertical-align: middle;\n",
              "    }\n",
              "\n",
              "    .dataframe tbody tr th {\n",
              "        vertical-align: top;\n",
              "    }\n",
              "\n",
              "    .dataframe thead th {\n",
              "        text-align: right;\n",
              "    }\n",
              "</style>\n",
              "<table border=\"1\" class=\"dataframe\">\n",
              "  <thead>\n",
              "    <tr style=\"text-align: right;\">\n",
              "      <th></th>\n",
              "      <th>Actual:</th>\n",
              "      <th>Predicted:</th>\n",
              "    </tr>\n",
              "  </thead>\n",
              "  <tbody>\n",
              "    <tr>\n",
              "      <th>5</th>\n",
              "      <td>20</td>\n",
              "      <td>17.053665</td>\n",
              "    </tr>\n",
              "    <tr>\n",
              "      <th>2</th>\n",
              "      <td>27</td>\n",
              "      <td>33.694229</td>\n",
              "    </tr>\n",
              "    <tr>\n",
              "      <th>19</th>\n",
              "      <td>69</td>\n",
              "      <td>74.806209</td>\n",
              "    </tr>\n",
              "    <tr>\n",
              "      <th>16</th>\n",
              "      <td>30</td>\n",
              "      <td>26.842232</td>\n",
              "    </tr>\n",
              "    <tr>\n",
              "      <th>11</th>\n",
              "      <td>62</td>\n",
              "      <td>60.123359</td>\n",
              "    </tr>\n",
              "    <tr>\n",
              "      <th>22</th>\n",
              "      <td>35</td>\n",
              "      <td>39.567369</td>\n",
              "    </tr>\n",
              "    <tr>\n",
              "      <th>17</th>\n",
              "      <td>24</td>\n",
              "      <td>20.969092</td>\n",
              "    </tr>\n",
              "    <tr>\n",
              "      <th>24</th>\n",
              "      <td>86</td>\n",
              "      <td>78.721636</td>\n",
              "    </tr>\n",
              "  </tbody>\n",
              "</table>\n",
              "</div>"
            ],
            "text/plain": [
              "    Actual:  Predicted:\n",
              "5        20   17.053665\n",
              "2        27   33.694229\n",
              "19       69   74.806209\n",
              "16       30   26.842232\n",
              "11       62   60.123359\n",
              "22       35   39.567369\n",
              "17       24   20.969092\n",
              "24       86   78.721636"
            ]
          },
          "metadata": {
            "tags": []
          },
          "execution_count": 62
        }
      ]
    },
    {
      "cell_type": "markdown",
      "metadata": {
        "id": "TgVkugbPOUWt"
      },
      "source": [
        "### **Analysis on Actual Vs Predicted Data By Ploting is graphs** "
      ]
    },
    {
      "cell_type": "code",
      "metadata": {
        "colab": {
          "base_uri": "https://localhost:8080/",
          "height": 312
        },
        "id": "8gUlMVj-htzN",
        "outputId": "c028f9e7-b973-4972-88dd-0624c34130f6"
      },
      "source": [
        "pred_y=model_s.predict(train_x)\n",
        "plt.xlabel(\"Hours Studied\")\n",
        "plt.title(\"(Acutul vs Predicted) Hours versus Percentage Score \")\n",
        "plt.ylabel(\"Predicted Percentage Score's\")\n",
        "plt.grid(linewidth=\"2\",color=\"cyan\",linestyle=\":\")\n",
        "\n",
        "plt.scatter(train_x,pred_y,color=\"red\",marker=\"o\",label=\"Predicted\")\n",
        "plt.scatter(df[[\"Hours\"]],df.Scores,color=\"blue\",marker=\"o\",label=\"Actual\")\n",
        "plt.legend(loc=\"best\")\n"
      ],
      "execution_count": 63,
      "outputs": [
        {
          "output_type": "execute_result",
          "data": {
            "text/plain": [
              "<matplotlib.legend.Legend at 0x7f38b5864e90>"
            ]
          },
          "metadata": {
            "tags": []
          },
          "execution_count": 63
        },
        {
          "output_type": "display_data",
          "data": {
            "image/png": "[encoded data removed]",
            "text/plain": [
              "<Figure size 432x288 with 1 Axes>"
            ]
          },
          "metadata": {
            "tags": [],
            "needs_background": "light"
          }
        }
      ]
    },
    {
      "cell_type": "markdown",
      "metadata": {
        "id": "5OVaV8kRMc4H"
      },
      "source": [
        "### **Now We Need to Calclulate The Efficiency Of Our Designed Model**\n",
        "\n",
        "\n",
        "\n"
      ]
    },
    {
      "cell_type": "code",
      "metadata": {
        "colab": {
          "base_uri": "https://localhost:8080/"
        },
        "id": "PS146AgUen0V",
        "outputId": "0f153869-1da0-42e5-8a62-9cf359e7cbc8"
      },
      "source": [
        "print(100*model_s.score(train_x,train_y),\"%\")"
      ],
      "execution_count": 64,
      "outputs": [
        {
          "output_type": "stream",
          "text": [
            "94.84997422695115 %\n"
          ],
          "name": "stdout"
        }
      ]
    },
    {
      "cell_type": "markdown",
      "metadata": {
        "id": "Z0_iGrXgKCMf"
      },
      "source": [
        "### **So at last would we like to compute the Predicted Score if a Child Studied for \"9.25\" Hours Daily** \n"
      ]
    },
    {
      "cell_type": "code",
      "metadata": {
        "colab": {
          "base_uri": "https://localhost:8080/"
        },
        "id": "KiubypjshGmA",
        "outputId": "1027ef30-da70-4e8b-9d71-503b034f0c21"
      },
      "source": [
        "#you Can also Predict on your data too.\n",
        "\n",
        "H=float(input(\"Enter Hours To Predict the score\\n\"))\n",
        "print(\"Predicted Score ,If You Studied for :\",H,\"Hours\\t\",\"\\nApprox\",model_s.predict([[H]]),\"%\")"
      ],
      "execution_count": 46,
      "outputs": [
        {
          "output_type": "stream",
          "text": [
            "Enter Hours To Predict the score\n",
            "9.25\n",
            "Predicted Score ,If You Studied for : 9.25 Hours\t \n",
            "Approx [93.67656425] %\n"
          ],
          "name": "stdout"
        }
      ]
    },
    {
      "cell_type": "markdown",
      "metadata": {
        "id": "0AAsPVA_6KmK"
      },
      "source": [
        "### **Evaluating the model**\n",
        "\n",
        "The final step is to evaluate the performance of algorithm. This step is particularly important to compare how well different algorithms perform on a particular dataset. For simplicity here, we have chosen the mean square error. There are many such metrics."
      ]
    },
    {
      "cell_type": "code",
      "metadata": {
        "id": "r5UOrRH-5VCQ",
        "colab": {
          "base_uri": "https://localhost:8080/"
        },
        "outputId": "67009cc7-e381-4670-8023-7ab28da18a45"
      },
      "source": [
        "from sklearn import metrics  \n",
        "print('Mean Absolute Error:', \n",
        "      metrics.mean_absolute_error(train_y,pred_y)) "
      ],
      "execution_count": 65,
      "outputs": [
        {
          "output_type": "stream",
          "text": [
            "Mean Absolute Error: 5.247062033143275\n"
          ],
          "name": "stdout"
        }
      ]
    }
  ]
}

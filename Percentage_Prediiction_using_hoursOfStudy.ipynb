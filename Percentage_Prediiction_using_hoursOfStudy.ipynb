{
  "nbformat": 4,
  "nbformat_minor": 0,
  "metadata": {
    "colab": {
      "name": "Percentage_Prediiction_using_hoursOfStudy.ipynb",
      "provenance": [],
      "collapsed_sections": [
        "rBrG4jVFRATR",
        "ftTT8uUPPbhk",
        "fYWV_XqAQIAm",
        "TgVkugbPOUWt",
        "5OVaV8kRMc4H",
        "Z0_iGrXgKCMf"
      ]
    },
    "kernelspec": {
      "name": "python3",
      "display_name": "Python 3"
    },
    "language_info": {
      "name": "python"
    }
  },
  "cells": [
    {
      "cell_type": "markdown",
      "metadata": {
        "id": "qZ5WmjYNB4v4"
      },
      "source": [
        "## **Prediction using Supervised ML**\n",
        "**Graduate** **Rotational** **Internship** **Program**\n",
        "\n",
        "\n",
        "\n",
        "**The** **Sparks** **Foundation**\n",
        "**The Sparks Foundation**\n",
        "\n",
        "\n",
        "\n"
      ]
    },
    {
      "cell_type": "markdown",
      "metadata": {
        "id": "ONGxn_8T_jnH"
      },
      "source": [
        "###**A Linear Regression Task**\n",
        "\n",
        "In this section we will see how the Python Scikit-Learn library for machine learning can be used to implement regression functions.\n",
        " We will start with simple linear regression involving two variables.\n",
        "\n",
        "\n",
        "### **Simple Linear Regression**  \n",
        "\n",
        "This type of regression come's under the category of supervised learning Model Of Machine Learning . \n",
        "In this task we will predict the percentage of marks that a student is expected to score based upon the number of hours they studied. \n",
        "This is a simple linear regression task as it involves just two variables.\n",
        "\n"
      ]
    },
    {
      "cell_type": "markdown",
      "metadata": {
        "id": "KNcDqvRjR-M6"
      },
      "source": [
        "### Author: Arif Ali Mansuri.\n",
        "Data Science\n",
        "& Business\n",
        "Analytics\n",
        "\n",
        "Graduate Rotational Internship Program\n",
        "The Sparks Foundation , June 2020\n"
      ]
    },
    {
      "cell_type": "markdown",
      "metadata": {
        "id": "8zWNAQyuTgFt"
      },
      "source": [
        "### **Preparing Data**\n"
      ]
    },
    {
      "cell_type": "code",
      "metadata": {
        "id": "V9QN2ZxC38pB"
      },
      "source": [
        "# Importing all libraries required in this notebook\n",
        "import pandas as pd\n",
        "import numpy as np  \n",
        "import matplotlib.pyplot as plt  \n"
      ],
      "execution_count": 74,
      "outputs": []
    },
    {
      "cell_type": "code",
      "metadata": {
        "colab": {
          "base_uri": "https://localhost:8080/",
          "height": 0
        },
        "id": "QFre00zWcVC9",
        "outputId": "7ea4676b-3027-4d70-b4b9-523e7afef4dc"
      },
      "source": [
        "#import dataset from given url=\"http://bit.ly/w-data\"\n",
        "url=\"http://bit.ly/w-data\"\n",
        "df=pd.read_csv(url)\n",
        "print(\"Data imported SucessFully\\n\",df)"
      ],
      "execution_count": 75,
      "outputs": [
        {
          "output_type": "stream",
          "text": [
            "Data imported SucessFully\n",
            "     Hours  Scores\n",
            "0     2.5      21\n",
            "1     5.1      47\n",
            "2     3.2      27\n",
            "3     8.5      75\n",
            "4     3.5      30\n",
            "5     1.5      20\n",
            "6     9.2      88\n",
            "7     5.5      60\n",
            "8     8.3      81\n",
            "9     2.7      25\n",
            "10    7.7      85\n",
            "11    5.9      62\n",
            "12    4.5      41\n",
            "13    3.3      42\n",
            "14    1.1      17\n",
            "15    8.9      95\n",
            "16    2.5      30\n",
            "17    1.9      24\n",
            "18    6.1      67\n",
            "19    7.4      69\n",
            "20    2.7      30\n",
            "21    4.8      54\n",
            "22    3.8      35\n",
            "23    6.9      76\n",
            "24    7.8      86\n"
          ],
          "name": "stdout"
        }
      ]
    },
    {
      "cell_type": "markdown",
      "metadata": {
        "id": "k3L_bb5nDOCk"
      },
      "source": [
        "Let's plot our data points on 2-D graph to anlysis our dataset and see if we can manually find any relationship between the data. We can create the plot with the following script"
      ]
    },
    {
      "cell_type": "code",
      "metadata": {
        "colab": {
          "base_uri": "https://localhost:8080/",
          "height": 547
        },
        "id": "C3igjfC3cmTn",
        "outputId": "86e794ef-f834-4524-b783-4901d56ce751"
      },
      "source": [
        "plt.xlabel(\"Hours Studied\")\n",
        "plt.title(\"Hours versus Percentage Score \")\n",
        "plt.ylabel(\"Percentage Score's\")\n",
        "plt.scatter(df[[\"Hours\"]],df.Scores,label=\"Actual\")\n",
        "plt.legend(loc=\"Best\")\n"
      ],
      "execution_count": 92,
      "outputs": [
        {
          "output_type": "stream",
          "text": [
            "/usr/local/lib/python3.7/dist-packages/ipykernel_launcher.py:5: MatplotlibDeprecationWarning: Unrecognized location 'Best'. Falling back on 'best'; valid locations are\n",
            "\tbest\n",
            "\tupper right\n",
            "\tupper left\n",
            "\tlower left\n",
            "\tlower right\n",
            "\tright\n",
            "\tcenter left\n",
            "\tcenter right\n",
            "\tlower center\n",
            "\tupper center\n",
            "\tcenter\n",
            "This will raise an exception in 3.3.\n",
            "  \"\"\"\n"
          ],
          "name": "stderr"
        },
        {
          "output_type": "execute_result",
          "data": {
            "text/plain": [
              "<matplotlib.legend.Legend at 0x7ff9c2bd8650>"
            ]
          },
          "metadata": {
            "tags": []
          },
          "execution_count": 92
        },
        {
          "output_type": "display_data",
          "data": {
            "image/png": "[encoded data removed]",
            "text/plain": [
              "<Figure size 432x288 with 1 Axes>"
            ]
          },
          "metadata": {
            "tags": [],
            "needs_background": "light"
          }
        }
      ]
    },
    {
      "cell_type": "markdown",
      "metadata": {
        "id": "43rTrCrtDiks"
      },
      "source": [
        "**From the above,plotted graph we can clearly see that there is a positive linear relation between the number of hours studied and percentage of score.**"
      ]
    },
    {
      "cell_type": "markdown",
      "metadata": {
        "id": "tuC7TeRpD0Qh"
      },
      "source": [
        "Next in a Row Importing the library that contain's  "
      ]
    },
    {
      "cell_type": "markdown",
      "metadata": {
        "id": "Riz-ZiZ34fO4"
      },
      "source": [
        "Now that we have our attributes and labels, the next step is to split this data into training and test sets. We'll do this by using Scikit-Learn's built-in train_test_split() method:"
      ]
    },
    {
      "cell_type": "code",
      "metadata": {
        "id": "Zd4WVAYbFc_j"
      },
      "source": [
        "X = df[\"Hours\"]\n",
        "Y = df[\"Scores\"]"
      ],
      "execution_count": 77,
      "outputs": []
    },
    {
      "cell_type": "code",
      "metadata": {
        "id": "udFYso1M4BNw"
      },
      "source": [
        "from sklearn.model_selection import train_test_split  \n",
        "Train_x, Test_x, Train_y, Test_y = train_test_split(X, Y, \n",
        "                            test_size=0.2, random_state=0) "
      ],
      "execution_count": 78,
      "outputs": []
    },
    {
      "cell_type": "code",
      "metadata": {
        "colab": {
          "base_uri": "https://localhost:8080/",
          "height": 0
        },
        "id": "jhPj9oxBGE9N",
        "outputId": "64a08dd9-d4f8-4dc0-df5b-a3be821be5d2"
      },
      "source": [
        "Train_x"
      ],
      "execution_count": 79,
      "outputs": [
        {
          "output_type": "execute_result",
          "data": {
            "text/plain": [
              "22    3.8\n",
              "17    1.9\n",
              "24    7.8\n",
              "23    6.9\n",
              "14    1.1\n",
              "1     5.1\n",
              "10    7.7\n",
              "13    3.3\n",
              "8     8.3\n",
              "6     9.2\n",
              "18    6.1\n",
              "4     3.5\n",
              "9     2.7\n",
              "7     5.5\n",
              "20    2.7\n",
              "3     8.5\n",
              "0     2.5\n",
              "21    4.8\n",
              "15    8.9\n",
              "12    4.5\n",
              "Name: Hours, dtype: float64"
            ]
          },
          "metadata": {
            "tags": []
          },
          "execution_count": 79
        }
      ]
    },
    {
      "cell_type": "code",
      "metadata": {
        "id": "M1wae3podDit"
      },
      "source": [
        "from sklearn.linear_model import LinearRegression"
      ],
      "execution_count": 80,
      "outputs": []
    },
    {
      "cell_type": "code",
      "metadata": {
        "id": "OkkI6GwQdbTx"
      },
      "source": [
        "model_s = LinearRegression()"
      ],
      "execution_count": 81,
      "outputs": []
    },
    {
      "cell_type": "code",
      "metadata": {
        "colab": {
          "base_uri": "https://localhost:8080/",
          "height": 0
        },
        "id": "lyrrqt2mGQ7I",
        "outputId": "6079680e-2407-48ed-bce3-e7e95c4f25f4"
      },
      "source": [
        "model_s.fit([Train_x],[Train_y])"
      ],
      "execution_count": 82,
      "outputs": [
        {
          "output_type": "execute_result",
          "data": {
            "text/plain": [
              "LinearRegression(copy_X=True, fit_intercept=True, n_jobs=None, normalize=False)"
            ]
          },
          "metadata": {
            "tags": []
          },
          "execution_count": 82
        }
      ]
    },
    {
      "cell_type": "markdown",
      "metadata": {
        "id": "rBrG4jVFRATR"
      },
      "source": [
        "### **Training the Algorithm**"
      ]
    },
    {
      "cell_type": "code",
      "metadata": {
        "colab": {
          "base_uri": "https://localhost:8080/",
          "height": 0
        },
        "id": "ngydmxtOd7dj",
        "outputId": "3f4308cc-e867-46c9-f629-2f4516c3227d"
      },
      "source": [
        "#Training  Algorithm\n",
        "\n",
        "from sklearn.linear_model import LinearRegression\n",
        "model_s = LinearRegression()\n",
        "model_s.fit(df[[\"Hours\"]],df.Scores)"
      ],
      "execution_count": 83,
      "outputs": [
        {
          "output_type": "execute_result",
          "data": {
            "text/plain": [
              "LinearRegression(copy_X=True, fit_intercept=True, n_jobs=None, normalize=False)"
            ]
          },
          "metadata": {
            "tags": []
          },
          "execution_count": 83
        }
      ]
    },
    {
      "cell_type": "code",
      "metadata": {
        "colab": {
          "base_uri": "https://localhost:8080/",
          "height": 0
        },
        "id": "5-W1YuNeeSOn",
        "outputId": "5e34a22e-deb2-49e2-8657-52001142669d"
      },
      "source": [
        "model_s.coef_"
      ],
      "execution_count": 84,
      "outputs": [
        {
          "output_type": "execute_result",
          "data": {
            "text/plain": [
              "array([9.77580339])"
            ]
          },
          "metadata": {
            "tags": []
          },
          "execution_count": 84
        }
      ]
    },
    {
      "cell_type": "code",
      "metadata": {
        "colab": {
          "base_uri": "https://localhost:8080/",
          "height": 0
        },
        "id": "9GN0tIDUeY5a",
        "outputId": "58f0f964-de20-4211-d131-1c433d97b28a"
      },
      "source": [
        "model_s.intercept_"
      ],
      "execution_count": 85,
      "outputs": [
        {
          "output_type": "execute_result",
          "data": {
            "text/plain": [
              "2.48367340537321"
            ]
          },
          "metadata": {
            "tags": []
          },
          "execution_count": 85
        }
      ]
    },
    {
      "cell_type": "markdown",
      "metadata": {
        "id": "ftTT8uUPPbhk"
      },
      "source": [
        "### **Making Prediction On Given DataSet**"
      ]
    },
    {
      "cell_type": "code",
      "metadata": {
        "id": "kTPe0UyhedfK",
        "colab": {
          "base_uri": "https://localhost:8080/",
          "height": 0
        },
        "outputId": "339784c2-cb31-4769-b4f0-09f09ff75a4f"
      },
      "source": [
        "model_s.predict(df[[\"Hours\"]])\n",
        "\n",
        "print(\"Prediction Completed Successfully\")"
      ],
      "execution_count": 86,
      "outputs": [
        {
          "output_type": "stream",
          "text": [
            "Prediction Completed Successfully\n"
          ],
          "name": "stdout"
        }
      ]
    },
    {
      "cell_type": "markdown",
      "metadata": {
        "id": "fYWV_XqAQIAm"
      },
      "source": [
        "### **Ploting DataFrame Of Actul Vs Predicted Results**"
      ]
    },
    {
      "cell_type": "code",
      "metadata": {
        "colab": {
          "base_uri": "https://localhost:8080/",
          "height": 0
        },
        "id": "eEAVba9DfPWi",
        "outputId": "2092e931-8d04-4437-fda4-784b10df1ec3"
      },
      "source": [
        "p=model_s.predict(df[[\"Hours\"]])\n",
        "pd.DataFrame({'Acutual:':df[\"Scores\"],'Predicted:':p})"
      ],
      "execution_count": 87,
      "outputs": [
        {
          "output_type": "execute_result",
          "data": {
            "text/html": [
              "<div>\n",
              "<style scoped>\n",
              "    .dataframe tbody tr th:only-of-type {\n",
              "        vertical-align: middle;\n",
              "    }\n",
              "\n",
              "    .dataframe tbody tr th {\n",
              "        vertical-align: top;\n",
              "    }\n",
              "\n",
              "    .dataframe thead th {\n",
              "        text-align: right;\n",
              "    }\n",
              "</style>\n",
              "<table border=\"1\" class=\"dataframe\">\n",
              "  <thead>\n",
              "    <tr style=\"text-align: right;\">\n",
              "      <th></th>\n",
              "      <th>Acutual:</th>\n",
              "      <th>Predicted:</th>\n",
              "    </tr>\n",
              "  </thead>\n",
              "  <tbody>\n",
              "    <tr>\n",
              "      <th>0</th>\n",
              "      <td>21</td>\n",
              "      <td>26.923182</td>\n",
              "    </tr>\n",
              "    <tr>\n",
              "      <th>1</th>\n",
              "      <td>47</td>\n",
              "      <td>52.340271</td>\n",
              "    </tr>\n",
              "    <tr>\n",
              "      <th>2</th>\n",
              "      <td>27</td>\n",
              "      <td>33.766244</td>\n",
              "    </tr>\n",
              "    <tr>\n",
              "      <th>3</th>\n",
              "      <td>75</td>\n",
              "      <td>85.578002</td>\n",
              "    </tr>\n",
              "    <tr>\n",
              "      <th>4</th>\n",
              "      <td>30</td>\n",
              "      <td>36.698985</td>\n",
              "    </tr>\n",
              "    <tr>\n",
              "      <th>5</th>\n",
              "      <td>20</td>\n",
              "      <td>17.147378</td>\n",
              "    </tr>\n",
              "    <tr>\n",
              "      <th>6</th>\n",
              "      <td>88</td>\n",
              "      <td>92.421065</td>\n",
              "    </tr>\n",
              "    <tr>\n",
              "      <th>7</th>\n",
              "      <td>60</td>\n",
              "      <td>56.250592</td>\n",
              "    </tr>\n",
              "    <tr>\n",
              "      <th>8</th>\n",
              "      <td>81</td>\n",
              "      <td>83.622842</td>\n",
              "    </tr>\n",
              "    <tr>\n",
              "      <th>9</th>\n",
              "      <td>25</td>\n",
              "      <td>28.878343</td>\n",
              "    </tr>\n",
              "    <tr>\n",
              "      <th>10</th>\n",
              "      <td>85</td>\n",
              "      <td>77.757360</td>\n",
              "    </tr>\n",
              "    <tr>\n",
              "      <th>11</th>\n",
              "      <td>62</td>\n",
              "      <td>60.160913</td>\n",
              "    </tr>\n",
              "    <tr>\n",
              "      <th>12</th>\n",
              "      <td>41</td>\n",
              "      <td>46.474789</td>\n",
              "    </tr>\n",
              "    <tr>\n",
              "      <th>13</th>\n",
              "      <td>42</td>\n",
              "      <td>34.743825</td>\n",
              "    </tr>\n",
              "    <tr>\n",
              "      <th>14</th>\n",
              "      <td>17</td>\n",
              "      <td>13.237057</td>\n",
              "    </tr>\n",
              "    <tr>\n",
              "      <th>15</th>\n",
              "      <td>95</td>\n",
              "      <td>89.488324</td>\n",
              "    </tr>\n",
              "    <tr>\n",
              "      <th>16</th>\n",
              "      <td>30</td>\n",
              "      <td>26.923182</td>\n",
              "    </tr>\n",
              "    <tr>\n",
              "      <th>17</th>\n",
              "      <td>24</td>\n",
              "      <td>21.057700</td>\n",
              "    </tr>\n",
              "    <tr>\n",
              "      <th>18</th>\n",
              "      <td>67</td>\n",
              "      <td>62.116074</td>\n",
              "    </tr>\n",
              "    <tr>\n",
              "      <th>19</th>\n",
              "      <td>69</td>\n",
              "      <td>74.824618</td>\n",
              "    </tr>\n",
              "    <tr>\n",
              "      <th>20</th>\n",
              "      <td>30</td>\n",
              "      <td>28.878343</td>\n",
              "    </tr>\n",
              "    <tr>\n",
              "      <th>21</th>\n",
              "      <td>54</td>\n",
              "      <td>49.407530</td>\n",
              "    </tr>\n",
              "    <tr>\n",
              "      <th>22</th>\n",
              "      <td>35</td>\n",
              "      <td>39.631726</td>\n",
              "    </tr>\n",
              "    <tr>\n",
              "      <th>23</th>\n",
              "      <td>76</td>\n",
              "      <td>69.936717</td>\n",
              "    </tr>\n",
              "    <tr>\n",
              "      <th>24</th>\n",
              "      <td>86</td>\n",
              "      <td>78.734940</td>\n",
              "    </tr>\n",
              "  </tbody>\n",
              "</table>\n",
              "</div>"
            ],
            "text/plain": [
              "    Acutual:  Predicted:\n",
              "0         21   26.923182\n",
              "1         47   52.340271\n",
              "2         27   33.766244\n",
              "3         75   85.578002\n",
              "4         30   36.698985\n",
              "5         20   17.147378\n",
              "6         88   92.421065\n",
              "7         60   56.250592\n",
              "8         81   83.622842\n",
              "9         25   28.878343\n",
              "10        85   77.757360\n",
              "11        62   60.160913\n",
              "12        41   46.474789\n",
              "13        42   34.743825\n",
              "14        17   13.237057\n",
              "15        95   89.488324\n",
              "16        30   26.923182\n",
              "17        24   21.057700\n",
              "18        67   62.116074\n",
              "19        69   74.824618\n",
              "20        30   28.878343\n",
              "21        54   49.407530\n",
              "22        35   39.631726\n",
              "23        76   69.936717\n",
              "24        86   78.734940"
            ]
          },
          "metadata": {
            "tags": []
          },
          "execution_count": 87
        }
      ]
    },
    {
      "cell_type": "markdown",
      "metadata": {
        "id": "TgVkugbPOUWt"
      },
      "source": [
        "### **Analysis on Actual Vs Predicted Data By Ploting is graphs** "
      ]
    },
    {
      "cell_type": "code",
      "metadata": {
        "colab": {
          "base_uri": "https://localhost:8080/",
          "height": 312
        },
        "id": "8gUlMVj-htzN",
        "outputId": "def336b0-8ce0-4ac4-8a4d-c643d64d1735"
      },
      "source": [
        "plt.xlabel(\"Hours Studied\")\n",
        "plt.title(\"Acutul vs Predicted Score \")\n",
        "plt.ylabel(\"Predicted Percentage Score's\")\n",
        "plt.grid(linewidth=\"2\",color=\"cyan\",linestyle=\":\")\n",
        "\n",
        "plt.scatter(df[[\"Hours\"]],p,color=\"red\",edgecolors=\"black\",label=\"Predicted\")\n",
        "plt.scatter(df[[\"Hours\"]],df.Scores,color=\"blue\",edgecolors=\"blue\",marker=\"o\",label=\"Actual\")\n",
        "plt.legend(loc=\"best\")\n"
      ],
      "execution_count": 93,
      "outputs": [
        {
          "output_type": "execute_result",
          "data": {
            "text/plain": [
              "<matplotlib.legend.Legend at 0x7ff9c2b71450>"
            ]
          },
          "metadata": {
            "tags": []
          },
          "execution_count": 93
        },
        {
          "output_type": "display_data",
          "data": {
            "image/png": "[encoded data removed]",
            "text/plain": [
              "<Figure size 432x288 with 1 Axes>"
            ]
          },
          "metadata": {
            "tags": [],
            "needs_background": "light"
          }
        }
      ]
    },
    {
      "cell_type": "markdown",
      "metadata": {
        "id": "5OVaV8kRMc4H"
      },
      "source": [
        "### **Now We Need to Calclulate The Efficiency Of Our Designed Model**\n",
        "\n",
        "\n",
        "\n"
      ]
    },
    {
      "cell_type": "code",
      "metadata": {
        "colab": {
          "base_uri": "https://localhost:8080/",
          "height": 0
        },
        "id": "PS146AgUen0V",
        "outputId": "7850d05b-27dc-4cfe-d4cc-95ee6f4ea48e"
      },
      "source": [
        "print(100*model_s.score(df[[\"Hours\"]],df.Scores),\"%\")"
      ],
      "execution_count": 89,
      "outputs": [
        {
          "output_type": "stream",
          "text": [
            "95.29481969048355 %\n"
          ],
          "name": "stdout"
        }
      ]
    },
    {
      "cell_type": "markdown",
      "metadata": {
        "id": "Z0_iGrXgKCMf"
      },
      "source": [
        "### **So at last would we like to compute the Predicted Score if a Child Studied for \"9.25\" Hours Daily** \n"
      ]
    },
    {
      "cell_type": "code",
      "metadata": {
        "colab": {
          "base_uri": "https://localhost:8080/",
          "height": 0
        },
        "id": "KiubypjshGmA",
        "outputId": "fca4eb7e-415d-4d0c-c50b-8c6ca0e331e7"
      },
      "source": [
        "#you Can also Predict on your data too.\n",
        "\n",
        "H=float(input(\"Enter Hours To Predict the score\\n\"))\n",
        "print(\"Predicted Score ,If You Studied for :\",H,\"Hours\\t\",\"\\nApprox\",model_s.predict([[H]]))"
      ],
      "execution_count": 91,
      "outputs": [
        {
          "output_type": "stream",
          "text": [
            "Enter Hours To Predict the score\n",
            "9.26\n",
            "Predicted Score ,If You Studied for : 9.26 Hours\t \n",
            "Approx [93.0076128]\n"
          ],
          "name": "stdout"
        }
      ]
    }
  ]
}
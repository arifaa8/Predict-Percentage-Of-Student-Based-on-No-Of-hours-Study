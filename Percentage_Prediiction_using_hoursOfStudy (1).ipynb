{
  "nbformat": 4,
  "nbformat_minor": 0,
  "metadata": {
    "colab": {
      "name": "Percentage_Prediiction_using_hoursOfStudy.ipynb",
      "provenance": [],
      "collapsed_sections": [
        "rBrG4jVFRATR",
        "ftTT8uUPPbhk",
        "fYWV_XqAQIAm",
        "TgVkugbPOUWt",
        "5OVaV8kRMc4H",
        "Z0_iGrXgKCMf"
      ]
    },
    "kernelspec": {
      "name": "python3",
      "display_name": "Python 3"
    },
    "language_info": {
      "name": "python"
    }
  },
  "cells": [
    {
      "cell_type": "markdown",
      "metadata": {
        "id": "qZ5WmjYNB4v4"
      },
      "source": [
        "## **Prediction using Supervised ML**\n",
        "**Graduate** **Rotational** **Internship** **Program**\n",
        "\n",
        "\n",
        "\n",
        "**The** **Sparks** **Foundation**\n",
        "**The Sparks Foundation**\n",
        "\n",
        "\n",
        "\n"
      ]
    },
    {
      "cell_type": "markdown",
      "metadata": {
        "id": "ONGxn_8T_jnH"
      },
      "source": [
        "###**A Linear Regression Task**\n",
        "\n",
        "In this section we will see how the Python Scikit-Learn library for machine learning can be used to implement regression functions.\n",
        " We will start with simple linear regression involving two variables.\n",
        "\n",
        "\n",
        "### **Simple Linear Regression**  \n",
        "\n",
        "This type of regression come's under the category of supervised learning Model Of Machine Learning . \n",
        "In this task we will predict the percentage of marks that a student is expected to score based upon the number of hours they studied. \n",
        "This is a simple linear regression task as it involves just two variables.\n",
        "\n"
      ]
    },
    {
      "cell_type": "markdown",
      "metadata": {
        "id": "KNcDqvRjR-M6"
      },
      "source": [
        "### Author: Arif Ali Mansuri.\n",
        "Data Science\n",
        "& Business\n",
        "Analytics\n",
        "\n",
        "Graduate Rotational Internship Program\n",
        "The Sparks Foundation , June 2020\n"
      ]
    },
    {
      "cell_type": "markdown",
      "metadata": {
        "id": "8zWNAQyuTgFt"
      },
      "source": [
        "### **Preparing Data**\n"
      ]
    },
    {
      "cell_type": "code",
      "metadata": {
        "id": "V9QN2ZxC38pB"
      },
      "source": [
        "# Importing all libraries required in this notebook\n",
        "import pandas as pd\n",
        "import numpy as np  \n",
        "import matplotlib.pyplot as plt  \n"
      ],
      "execution_count": 94,
      "outputs": []
    },
    {
      "cell_type": "code",
      "metadata": {
        "id": "QFre00zWcVC9"
      },
      "source": [
        "#import dataset from given url=\"http://bit.ly/w-data\"\n",
        "url=\"http://bit.ly/w-data\"\n",
        "df=pd.read_csv(url)\n",
        "print(\"Data imported SucessFully\\n\",df)"
      ],
      "execution_count": null,
      "outputs": []
    },
    {
      "cell_type": "markdown",
      "metadata": {
        "id": "k3L_bb5nDOCk"
      },
      "source": [
        "Let's plot our data points on 2-D graph to anlysis our dataset and see if we can manually find any relationship between the data. We can create the plot with the following script"
      ]
    },
    {
      "cell_type": "code",
      "metadata": {
        "colab": {
          "base_uri": "https://localhost:8080/",
          "height": 547
        },
        "id": "C3igjfC3cmTn",
        "outputId": "ec0282bb-6443-491a-ec39-3dd6b3f4c00f"
      },
      "source": [
        "plt.xlabel(\"Hours Studied\")\n",
        "plt.title(\"Hours versus Percentage Score \")\n",
        "plt.ylabel(\"Percentage Score's\")\n",
        "plt.grid(linewidth=\"2\",color=\"cyan\",linestyle=\":\")\n",
        "\n",
        "plt.scatter(df[[\"Hours\"]],df.Scores,color=\"blue\",marker=\"o\",label=\"Actual\")\n",
        "plt.legend(loc=\"Best\")\n"
      ],
      "execution_count": 133,
      "outputs": [
        {
          "output_type": "stream",
          "text": [
            "/usr/local/lib/python3.7/dist-packages/ipykernel_launcher.py:7: MatplotlibDeprecationWarning: Unrecognized location 'Best'. Falling back on 'best'; valid locations are\n",
            "\tbest\n",
            "\tupper right\n",
            "\tupper left\n",
            "\tlower left\n",
            "\tlower right\n",
            "\tright\n",
            "\tcenter left\n",
            "\tcenter right\n",
            "\tlower center\n",
            "\tupper center\n",
            "\tcenter\n",
            "This will raise an exception in 3.3.\n",
            "  import sys\n"
          ],
          "name": "stderr"
        },
        {
          "output_type": "execute_result",
          "data": {
            "text/plain": [
              "<matplotlib.legend.Legend at 0x7ff9c2243ad0>"
            ]
          },
          "metadata": {
            "tags": []
          },
          "execution_count": 133
        },
        {
          "output_type": "display_data",
          "data": {
            "image/png": "[encoded data removed]",
            "text/plain": [
              "<Figure size 432x288 with 1 Axes>"
            ]
          },
          "metadata": {
            "tags": [],
            "needs_background": "light"
          }
        }
      ]
    },
    {
      "cell_type": "markdown",
      "metadata": {
        "id": "43rTrCrtDiks"
      },
      "source": [
        "**From the above,plotted graph we can clearly see that there is a positive linear relation between the number of hours studied and percentage of score.**"
      ]
    },
    {
      "cell_type": "markdown",
      "metadata": {
        "id": "tuC7TeRpD0Qh"
      },
      "source": [
        "Next in a Row Importing the library that contain's  "
      ]
    },
    {
      "cell_type": "markdown",
      "metadata": {
        "id": "Riz-ZiZ34fO4"
      },
      "source": [
        "Now that we have our attributes and labels, the next step is to split this data into training and test sets. We'll do this by using Scikit-Learn's built-in train_test_split() method:\n"
      ]
    },
    {
      "cell_type": "code",
      "metadata": {
        "id": "oixJD5L2hDlu"
      },
      "source": [
        "from sklearn.model_selection import train_test_split\n",
        "train_x,test_x,train_y,test_y=train_test_split(df[[\"Hours\"]],df.Scores,test_size=0.3)\n",
        "# here i am divide the whole dataset inthe ratio of 70:30 \n",
        "# 70 %--> For Training the algorithm \n",
        "# 30 % --> for testing purpose \n"
      ],
      "execution_count": 147,
      "outputs": []
    },
    {
      "cell_type": "markdown",
      "metadata": {
        "id": "rBrG4jVFRATR"
      },
      "source": [
        "### **Training the Algorithm**"
      ]
    },
    {
      "cell_type": "code",
      "metadata": {
        "colab": {
          "base_uri": "https://localhost:8080/"
        },
        "id": "ngydmxtOd7dj",
        "outputId": "6cabc622-aa65-4018-8d53-4be9bd9bc2ab"
      },
      "source": [
        "#Training  Algorithm\n",
        "\n",
        "from sklearn.linear_model import LinearRegression\n",
        "model_s = LinearRegression()\n",
        "model_s.fit(train_x,train_y)"
      ],
      "execution_count": 148,
      "outputs": [
        {
          "output_type": "execute_result",
          "data": {
            "text/plain": [
              "LinearRegression(copy_X=True, fit_intercept=True, n_jobs=None, normalize=False)"
            ]
          },
          "metadata": {
            "tags": []
          },
          "execution_count": 148
        }
      ]
    },
    {
      "cell_type": "code",
      "metadata": {
        "colab": {
          "base_uri": "https://localhost:8080/"
        },
        "id": "5-W1YuNeeSOn",
        "outputId": "d94ea9cd-2b9e-44b7-abbe-f9d3d8728f7c"
      },
      "source": [
        "model_s.coef_"
      ],
      "execution_count": 149,
      "outputs": [
        {
          "output_type": "execute_result",
          "data": {
            "text/plain": [
              "array([9.73300415])"
            ]
          },
          "metadata": {
            "tags": []
          },
          "execution_count": 149
        }
      ]
    },
    {
      "cell_type": "code",
      "metadata": {
        "colab": {
          "base_uri": "https://localhost:8080/"
        },
        "id": "9GN0tIDUeY5a",
        "outputId": "cc932632-5f76-4975-8063-deb0efb8da3a"
      },
      "source": [
        "model_s.intercept_"
      ],
      "execution_count": 150,
      "outputs": [
        {
          "output_type": "execute_result",
          "data": {
            "text/plain": [
              "3.3528229040166906"
            ]
          },
          "metadata": {
            "tags": []
          },
          "execution_count": 150
        }
      ]
    },
    {
      "cell_type": "markdown",
      "metadata": {
        "id": "ftTT8uUPPbhk"
      },
      "source": [
        "### **Making Prediction On Given DataSet**"
      ]
    },
    {
      "cell_type": "code",
      "metadata": {
        "id": "kTPe0UyhedfK",
        "colab": {
          "base_uri": "https://localhost:8080/"
        },
        "outputId": "8dfdd4d2-1b23-45bf-ebf0-3972a0593f72"
      },
      "source": [
        "model_s.predict(test_x)\n",
        "\n",
        "\n",
        "print(\"Prediction Completed Successfully\")"
      ],
      "execution_count": 151,
      "outputs": [
        {
          "output_type": "stream",
          "text": [
            "Prediction Completed Successfully\n"
          ],
          "name": "stdout"
        }
      ]
    },
    {
      "cell_type": "markdown",
      "metadata": {
        "id": "fYWV_XqAQIAm"
      },
      "source": [
        "### **Ploting DataFrame Of Actul Vs Predicted Results**"
      ]
    },
    {
      "cell_type": "code",
      "metadata": {
        "colab": {
          "base_uri": "https://localhost:8080/",
          "height": 0
        },
        "id": "eEAVba9DfPWi",
        "outputId": "d1e45d1a-8c0e-4591-b140-f8f8b721e9fd"
      },
      "source": [
        "p=model_s.predict(test_x)\n",
        "pd.DataFrame({'Acutual:':test_y,'Predicted:':p})"
      ],
      "execution_count": 152,
      "outputs": [
        {
          "output_type": "execute_result",
          "data": {
            "text/html": [
              "<div>\n",
              "<style scoped>\n",
              "    .dataframe tbody tr th:only-of-type {\n",
              "        vertical-align: middle;\n",
              "    }\n",
              "\n",
              "    .dataframe tbody tr th {\n",
              "        vertical-align: top;\n",
              "    }\n",
              "\n",
              "    .dataframe thead th {\n",
              "        text-align: right;\n",
              "    }\n",
              "</style>\n",
              "<table border=\"1\" class=\"dataframe\">\n",
              "  <thead>\n",
              "    <tr style=\"text-align: right;\">\n",
              "      <th></th>\n",
              "      <th>Acutual:</th>\n",
              "      <th>Predicted:</th>\n",
              "    </tr>\n",
              "  </thead>\n",
              "  <tbody>\n",
              "    <tr>\n",
              "      <th>18</th>\n",
              "      <td>67</td>\n",
              "      <td>62.724148</td>\n",
              "    </tr>\n",
              "    <tr>\n",
              "      <th>11</th>\n",
              "      <td>62</td>\n",
              "      <td>60.777547</td>\n",
              "    </tr>\n",
              "    <tr>\n",
              "      <th>3</th>\n",
              "      <td>75</td>\n",
              "      <td>86.083358</td>\n",
              "    </tr>\n",
              "    <tr>\n",
              "      <th>19</th>\n",
              "      <td>69</td>\n",
              "      <td>75.377054</td>\n",
              "    </tr>\n",
              "    <tr>\n",
              "      <th>4</th>\n",
              "      <td>30</td>\n",
              "      <td>37.418337</td>\n",
              "    </tr>\n",
              "    <tr>\n",
              "      <th>23</th>\n",
              "      <td>76</td>\n",
              "      <td>70.510552</td>\n",
              "    </tr>\n",
              "    <tr>\n",
              "      <th>2</th>\n",
              "      <td>27</td>\n",
              "      <td>34.498436</td>\n",
              "    </tr>\n",
              "    <tr>\n",
              "      <th>15</th>\n",
              "      <td>95</td>\n",
              "      <td>89.976560</td>\n",
              "    </tr>\n",
              "  </tbody>\n",
              "</table>\n",
              "</div>"
            ],
            "text/plain": [
              "    Acutual:  Predicted:\n",
              "18        67   62.724148\n",
              "11        62   60.777547\n",
              "3         75   86.083358\n",
              "19        69   75.377054\n",
              "4         30   37.418337\n",
              "23        76   70.510552\n",
              "2         27   34.498436\n",
              "15        95   89.976560"
            ]
          },
          "metadata": {
            "tags": []
          },
          "execution_count": 152
        }
      ]
    },
    {
      "cell_type": "markdown",
      "metadata": {
        "id": "TgVkugbPOUWt"
      },
      "source": [
        "### **Analysis on Actual Vs Predicted Data By Ploting is graphs** "
      ]
    },
    {
      "cell_type": "code",
      "metadata": {
        "colab": {
          "base_uri": "https://localhost:8080/",
          "height": 312
        },
        "id": "8gUlMVj-htzN",
        "outputId": "214d4831-a608-44f8-93d8-c1d963486aa6"
      },
      "source": [
        "pred_y=model_s.predict(train_x)\n",
        "plt.xlabel(\"Hours Studied\")\n",
        "plt.title(\"(Acutul vs Predicted) Hours versus Percentage Score \")\n",
        "plt.ylabel(\"Predicted Percentage Score's\")\n",
        "plt.grid(linewidth=\"2\",color=\"cyan\",linestyle=\":\")\n",
        "\n",
        "plt.scatter(train_x,pred_y,color=\"red\",marker=\"o\",label=\"Predicted\")\n",
        "plt.scatter(train_x,train_y,color=\"blue\",marker=\"o\",label=\"Actual\")\n",
        "plt.legend(loc=\"best\")\n"
      ],
      "execution_count": 153,
      "outputs": [
        {
          "output_type": "execute_result",
          "data": {
            "text/plain": [
              "<matplotlib.legend.Legend at 0x7ff9c213df50>"
            ]
          },
          "metadata": {
            "tags": []
          },
          "execution_count": 153
        },
        {
          "output_type": "display_data",
          "data": {
            "image/png": "[encoded data removed]",
            "text/plain": [
              "<Figure size 432x288 with 1 Axes>"
            ]
          },
          "metadata": {
            "tags": [],
            "needs_background": "light"
          }
        }
      ]
    },
    {
      "cell_type": "markdown",
      "metadata": {
        "id": "5OVaV8kRMc4H"
      },
      "source": [
        "### **Now We Need to Calclulate The Efficiency Of Our Designed Model**\n",
        "\n",
        "\n",
        "\n"
      ]
    },
    {
      "cell_type": "code",
      "metadata": {
        "colab": {
          "base_uri": "https://localhost:8080/"
        },
        "id": "PS146AgUen0V",
        "outputId": "a59cce2c-5452-449b-c42f-81e49ac25080"
      },
      "source": [
        "print(100*model_s.score(train_x,train_y),\"%\")"
      ],
      "execution_count": 154,
      "outputs": [
        {
          "output_type": "stream",
          "text": [
            "96.21058291849928 %\n"
          ],
          "name": "stdout"
        }
      ]
    },
    {
      "cell_type": "markdown",
      "metadata": {
        "id": "Z0_iGrXgKCMf"
      },
      "source": [
        "### **So at last would we like to compute the Predicted Score if a Child Studied for \"9.25\" Hours Daily** \n"
      ]
    },
    {
      "cell_type": "code",
      "metadata": {
        "colab": {
          "base_uri": "https://localhost:8080/"
        },
        "id": "KiubypjshGmA",
        "outputId": "3b6f105e-7b8f-4bad-d75c-f9460ae54594"
      },
      "source": [
        "#you Can also Predict on your data too.\n",
        "\n",
        "H=float(input(\"Enter Hours To Predict the score\\n\"))\n",
        "print(\"Predicted Score ,If You Studied for :\",H,\"Hours\\t\",\"\\nApprox\",model_s.predict([[H]]),\"%\")"
      ],
      "execution_count": 155,
      "outputs": [
        {
          "output_type": "stream",
          "text": [
            "Enter Hours To Predict the score\n",
            "9.25\n",
            "Predicted Score ,If You Studied for : 9.25 Hours\t \n",
            "Approx [93.38311127] %\n"
          ],
          "name": "stdout"
        }
      ]
    },
    {
      "cell_type": "markdown",
      "metadata": {
        "id": "0AAsPVA_6KmK"
      },
      "source": [
        "### **Evaluating the model**\n",
        "\n",
        "The final step is to evaluate the performance of algorithm. This step is particularly important to compare how well different algorithms perform on a particular dataset. For simplicity here, we have chosen the mean square error. There are many such metrics."
      ]
    },
    {
      "cell_type": "code",
      "metadata": {
        "id": "r5UOrRH-5VCQ",
        "colab": {
          "base_uri": "https://localhost:8080/"
        },
        "outputId": "3433d0dd-6b97-433d-f18d-a9f6474c4229"
      },
      "source": [
        "from sklearn import metrics  \n",
        "print('Mean Absolute Error:', \n",
        "      metrics.mean_absolute_error(train_y,pred_y)) "
      ],
      "execution_count": 156,
      "outputs": [
        {
          "output_type": "stream",
          "text": [
            "Mean Absolute Error: 4.3330835347222285\n"
          ],
          "name": "stdout"
        }
      ]
    }
  ]
}